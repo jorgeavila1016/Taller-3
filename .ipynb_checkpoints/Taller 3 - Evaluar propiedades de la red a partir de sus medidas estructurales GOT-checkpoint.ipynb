{
 "cells": [
  {
   "cell_type": "markdown",
   "metadata": {},
   "source": [
    "<img src=\"https://upload.wikimedia.org/wikipedia/commons/thumb/4/47/University_of_Los_Andes_logo.svg/1200px-University_of_Los_Andes_logo.svg.png\" width=\"70\" align=\"left\"> \n",
    "  <h1> DEPARTAMENTO DE INGENIERIA INDUSTRIAL <br>\n",
    "  Estrucuturación de Redes Sociales 202120 <br> </h1>\n",
    " \n",
    " **PROFESORES:** Felipe Montes - Andrés Felipe Usceche - Gianfranco Vietto - Ana María Guerra - Martha Blanco - Ana María Jaramillo"
   ]
  },
  {
   "cell_type": "markdown",
   "metadata": {},
   "source": [
    "<center> <bold> Integrantes </bold> </center>\n",
    "\n",
    "|Apellidos|Nombres|Código|Login|\n",
    "|:---:|:---:|:---:|:---:|\n",
    "|*Avila Gonzalez*|*Jorge Hernando*|*201812690*|*jh.avila*|\n",
    "|*Apellidos 2*|*Nombres 2*|*Código 2*|*login 2*|"
   ]
  },
  {
   "cell_type": "markdown",
   "metadata": {},
   "source": [
    "<h1><center> Taller 3 </center></h1>\n",
    "<h2><center>Evaluar propiedades de la red a partir de sus medidas estructurales</center></h2>"
   ]
  },
  {
   "cell_type": "markdown",
   "metadata": {},
   "source": [
    "En esta actividad ustedes trabajarán con los principios detrás de la teoría de detección de comunidades. Sigan las instrucciones para desarrollar la actividad, escriban su código de forma ordenada y bien comentada, coloquen sus argumentaciones en los *Markdown’s* desigandos para ello."
   ]
  },
  {
   "cell_type": "markdown",
   "metadata": {},
   "source": [
    "1. Carguen la red de Game of Thones adjunta, pero como una red no dirigida"
   ]
  },
  {
   "cell_type": "code",
   "execution_count": null,
   "metadata": {},
   "outputs": [],
   "source": [
    "# Librerías\n"
   ]
  },
  {
   "cell_type": "code",
   "execution_count": null,
   "metadata": {},
   "outputs": [],
   "source": [
    "#Cargar información\n"
   ]
  },
  {
   "cell_type": "code",
   "execution_count": null,
   "metadata": {},
   "outputs": [],
   "source": [
    "# Construir red\n"
   ]
  },
  {
   "cell_type": "markdown",
   "metadata": {},
   "source": [
    "2. Visualicen la red mostrando en cada nodo las iniciales de cada persona"
   ]
  },
  {
   "cell_type": "code",
   "execution_count": null,
   "metadata": {},
   "outputs": [],
   "source": []
  },
  {
   "cell_type": "markdown",
   "metadata": {},
   "source": [
    "3. Calculen el diametro de la red. *Nota: Tengan presente que tienen que verificar que la red esté completamente conectada y en caso que no lo esté utilizar el componente conectado más grande.*"
   ]
  },
  {
   "cell_type": "code",
   "execution_count": null,
   "metadata": {},
   "outputs": [],
   "source": []
  },
  {
   "cell_type": "markdown",
   "metadata": {},
   "source": [
    "4. Calculen la densidad de la red ¿Creen que es una red altamente conectada?"
   ]
  },
  {
   "cell_type": "code",
   "execution_count": null,
   "metadata": {},
   "outputs": [],
   "source": []
  },
  {
   "cell_type": "markdown",
   "metadata": {},
   "source": [
    "5. Apliquen la detección por comunidades por el método de optimización y visualicen las comunidades diferenciandolas por color. ¿Cuántas comunidades se detectaron?"
   ]
  },
  {
   "cell_type": "code",
   "execution_count": null,
   "metadata": {},
   "outputs": [],
   "source": []
  },
  {
   "cell_type": "markdown",
   "metadata": {},
   "source": [
    "6. Identifiquen los 20 nodos con mayor betweenness ¿Qué creen que representan estas personas en la red?"
   ]
  },
  {
   "cell_type": "code",
   "execution_count": null,
   "metadata": {},
   "outputs": [],
   "source": []
  },
  {
   "cell_type": "markdown",
   "metadata": {},
   "source": [
    "7. De los 20 nodos identificados anteriormente clasifíquenlos en nodos con alto y bajo grado. Comente que papel tienen los nodos en la red con alto betweenness y bajo grado. *Ayuda: Construyan scatter plot para realizar su análisis*"
   ]
  },
  {
   "cell_type": "code",
   "execution_count": null,
   "metadata": {},
   "outputs": [],
   "source": []
  },
  {
   "cell_type": "markdown",
   "metadata": {},
   "source": [
    "*Escriba aqui su análisis* <br>\n",
    "\n"
   ]
  },
  {
   "cell_type": "code",
   "execution_count": null,
   "metadata": {},
   "outputs": [],
   "source": []
  },
  {
   "cell_type": "markdown",
   "metadata": {},
   "source": [
    "8. Calcule el coeficiente de Clustering de los nodos clasificados anteriormente y reporte el coeficiente promedio de las dos clasificaciones (alto grado y bajo grado de los 20 nodos con mayor betweenness) Comente sus resultados y explique porque se da esta diferencia."
   ]
  },
  {
   "cell_type": "code",
   "execution_count": null,
   "metadata": {},
   "outputs": [],
   "source": []
  },
  {
   "cell_type": "markdown",
   "metadata": {},
   "source": [
    "*Escriba aquí su análisis* <br>\n",
    "\n"
   ]
  },
  {
   "cell_type": "code",
   "execution_count": null,
   "metadata": {},
   "outputs": [],
   "source": []
  },
  {
   "cell_type": "markdown",
   "metadata": {},
   "source": [
    "9. Remueva de la red los nodos con mayor betweenness<br>\n",
    "*Ayuda:*``G.remove_node(id)``"
   ]
  },
  {
   "cell_type": "code",
   "execution_count": null,
   "metadata": {},
   "outputs": [],
   "source": []
  },
  {
   "cell_type": "markdown",
   "metadata": {},
   "source": [
    "10. Grafique la red resultante al remover los nodos e identifique cuantos componentes tiene la red"
   ]
  },
  {
   "cell_type": "code",
   "execution_count": null,
   "metadata": {},
   "outputs": [],
   "source": []
  },
  {
   "cell_type": "markdown",
   "metadata": {},
   "source": [
    "11. ¿Los componentes identificados se parecen a las comunidades detectadas por el método de Louvain? ¿Por qué si o porque no?"
   ]
  },
  {
   "cell_type": "markdown",
   "metadata": {},
   "source": [
    "*Escriba aquí su análisis* <br>\n",
    "\n"
   ]
  },
  {
   "cell_type": "code",
   "execution_count": null,
   "metadata": {},
   "outputs": [],
   "source": []
  },
  {
   "cell_type": "markdown",
   "metadata": {},
   "source": [
    "12.  Una vez terminados todos los análisis ustedes poseen un alto nivel de entendimiento de la red, así que con este en mente contesten la siguiente pregunta ¿Qué pueden identificar dentro de la estructura de la red? "
   ]
  },
  {
   "cell_type": "markdown",
   "metadata": {},
   "source": [
    "*Escriba aquí su análisis* <br>\n",
    "\n"
   ]
  },
  {
   "cell_type": "code",
   "execution_count": null,
   "metadata": {},
   "outputs": [],
   "source": []
  }
 ],
 "metadata": {
  "kernelspec": {
   "display_name": "Python 3",
   "language": "python",
   "name": "python3"
  },
  "language_info": {
   "codemirror_mode": {
    "name": "ipython",
    "version": 3
   },
   "file_extension": ".py",
   "mimetype": "text/x-python",
   "name": "python",
   "nbconvert_exporter": "python",
   "pygments_lexer": "ipython3",
   "version": "3.8.8"
  }
 },
 "nbformat": 4,
 "nbformat_minor": 4
}
